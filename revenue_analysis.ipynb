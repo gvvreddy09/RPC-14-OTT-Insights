{
 "cells": [
  {
   "cell_type": "markdown",
   "id": "380c27ac-47e4-45fb-a81a-a75e33e62b99",
   "metadata": {},
   "source": [
    "# Import Libraries"
   ]
  },
  {
   "cell_type": "code",
   "execution_count": 1,
   "id": "66caab9b-8354-45bc-adf2-ff9d54c1dfb4",
   "metadata": {},
   "outputs": [],
   "source": [
    "import pandas as pd\n",
    "from sqlalchemy import create_engine\n",
    "import os\n",
    "from dotenv import load_dotenv"
   ]
  },
  {
   "cell_type": "markdown",
   "id": "3e2cf997-9285-4291-9c55-a3ba7cbfbb51",
   "metadata": {},
   "source": [
    "# Import Data"
   ]
  },
  {
   "cell_type": "code",
   "execution_count": 2,
   "id": "9c4d2b94-82d5-44e9-9d80-eff3817efabb",
   "metadata": {},
   "outputs": [],
   "source": [
    "load_dotenv()\n",
    "\n",
    "db_user = os.environ.get(\"DB_USER\")\n",
    "db_password = os.environ.get(\"DB_PASSWORD\")\n",
    "db_host = os.environ.get(\"DB_HOST\")\n",
    "\n",
    "js_db_name = os.environ.get(\"JS_DB_NAME\")\n",
    "lc_db_name = os.environ.get(\"LC_DB_NAME\")\n",
    "\n",
    "# Use the credentials to connect to the database\n",
    "# Database connection string\n",
    "js_conn_string = f\"mysql+pymysql://{db_user}:{db_password}@{db_host}/{js_db_name}\"\n",
    "lc_conn_string = f\"mysql+pymysql://{db_user}:{db_password}@{db_host}/{lc_db_name}\"\n",
    "\n",
    "# Create engine\n",
    "js_engine = create_engine(js_conn_string)\n",
    "lc_engine = create_engine(lc_conn_string)"
   ]
  },
  {
   "cell_type": "code",
   "execution_count": 3,
   "id": "7be03568-17db-4d8b-a9f8-68184689f740",
   "metadata": {},
   "outputs": [],
   "source": [
    "# Jotstar Tables\n",
    "js_subscribers = pd.read_sql_query(\"SELECT * FROM subscribers\", js_engine, \n",
    "                                   parse_dates={\"subscription_date\":'%Y-%m-%d', \"last_active_date\":'%Y-%m-%d', \"plan_change_date\":'%Y-%m-%d'})"
   ]
  },
  {
   "cell_type": "code",
   "execution_count": 4,
   "id": "b8cdd823-d2b4-4f88-8409-36fc2f49eaa6",
   "metadata": {},
   "outputs": [],
   "source": [
    "# LioCinema Tables\n",
    "lc_subscribers = pd.read_sql_query(\"SELECT * FROM subscribers\", lc_engine, \n",
    "                                   parse_dates={\"subscription_date\":'%Y-%m-%d', \"last_active_date\":'%Y-%m-%d', \"plan_change_date\":'%Y-%m-%d'})"
   ]
  },
  {
   "cell_type": "markdown",
   "id": "9c40b74c-098f-4de6-b722-d31c8f65d1c8",
   "metadata": {},
   "source": [
    "# Define Change Type"
   ]
  },
  {
   "cell_type": "code",
   "execution_count": 5,
   "id": "be164846-5da0-4f07-ba5e-c15387a8e206",
   "metadata": {},
   "outputs": [],
   "source": [
    "js_plan_hierarchy = {'Free':1, 'VIP':2, 'Premium':3}\n",
    "lc_plan_hierarchy = {'Free':1, 'Basic':2, 'Premium':3}"
   ]
  },
  {
   "cell_type": "code",
   "execution_count": 6,
   "id": "bd51dfec-e0d5-40d8-8e9a-9dbad857d092",
   "metadata": {},
   "outputs": [],
   "source": [
    "def change_type(row, plan_hierarchy):\n",
    "    if pd.notna(row['plan_change_date']) & (plan_hierarchy.get(row['new_subscription_plan'], 0) > plan_hierarchy.get(row['subscription_plan'], 0)):\n",
    "        return 'Upgrade'\n",
    "    elif pd.notna(row['plan_change_date']) & (plan_hierarchy.get(row['new_subscription_plan'], 0) < plan_hierarchy.get(row['subscription_plan'], 0)):\n",
    "        return 'Downgrade'\n",
    "    else:\n",
    "        return 'No Change'"
   ]
  },
  {
   "cell_type": "code",
   "execution_count": 7,
   "id": "c5fe6a54-f4d5-41dd-84d1-60f03f978dba",
   "metadata": {},
   "outputs": [],
   "source": [
    "js_subscribers['change_type'] = js_subscribers.apply(change_type, axis=1, args=(js_plan_hierarchy,))\n",
    "lc_subscribers['change_type'] = lc_subscribers.apply(change_type, axis=1, args=(lc_plan_hierarchy,))"
   ]
  },
  {
   "cell_type": "markdown",
   "id": "8ccdd7cf-2e2a-4c83-9818-1bf640d12988",
   "metadata": {},
   "source": [
    "# Revenue Analysis"
   ]
  },
  {
   "cell_type": "markdown",
   "id": "bc29b57d-ff71-4323-9dcb-ca91626b6ba0",
   "metadata": {},
   "source": [
    "## Fill na values in last_active_date with '2024-12-31'\n",
    "\n",
    "- If the user is active their last_active_date is null as per metadata \n",
    "- It's difficult to find the revenue generated from the user, so assuming '2024-12-31' as their last_active_date. Also maximum plan_change_date is '2024-12-31'\n",
    "- Fill missing last_active_date with 31 Dec 2024 (assuming still active)"
   ]
  },
  {
   "cell_type": "code",
   "execution_count": 8,
   "id": "e1d472de-ef72-48fd-93ad-05f962dd2322",
   "metadata": {},
   "outputs": [],
   "source": [
    "js_subscribers['last_active_date'].fillna(pd.Timestamp('2024-12-31'), inplace=True)\n",
    "lc_subscribers['last_active_date'].fillna(pd.Timestamp('2024-12-31'), inplace=True)"
   ]
  },
  {
   "cell_type": "markdown",
   "id": "d41badbe-2779-40c9-b684-96705cf766e2",
   "metadata": {},
   "source": [
    "## Platform-Wise Monthly Prices "
   ]
  },
  {
   "cell_type": "code",
   "execution_count": 9,
   "id": "9b9ff8c8-45b1-4389-9f8b-a27f3ef77940",
   "metadata": {},
   "outputs": [],
   "source": [
    "js_prices = {'VIP': 159, 'Premium': 359}\n",
    "lc_prices = {'Basic': 69, 'Premium': 129}"
   ]
  },
  {
   "cell_type": "markdown",
   "id": "0fe31acf-a969-4b53-bfc6-ee4fe9438ee0",
   "metadata": {},
   "source": [
    "## Consider Subscribers who started with Free as their Initial Plan during Revenue Calculation\n",
    "\n",
    "Because they might get upgraded to basic/premium and its revenue should also be considered for analysis"
   ]
  },
  {
   "cell_type": "code",
   "execution_count": 10,
   "id": "aabf7b58-a983-46dc-baa5-7e046faff881",
   "metadata": {},
   "outputs": [
    {
     "data": {
      "text/plain": [
       "((12096, 9), (104992, 9))"
      ]
     },
     "execution_count": 10,
     "metadata": {},
     "output_type": "execute_result"
    }
   ],
   "source": [
    "js_subscribers[js_subscribers['subscription_plan']=='Free'].shape, lc_subscribers[lc_subscribers['subscription_plan']=='Free'].shape"
   ]
  },
  {
   "cell_type": "markdown",
   "id": "35b345bc-18bf-44bf-a358-74dc68e76a31",
   "metadata": {},
   "source": [
    "## Calculate Revenue"
   ]
  },
  {
   "cell_type": "code",
   "execution_count": 11,
   "id": "7c81fdc4-7061-4f1b-bd41-46716f29f82c",
   "metadata": {},
   "outputs": [],
   "source": [
    "def calculate_revenue(row, price):\n",
    "    if pd.notna(row['plan_change_date']): # If user changed plan\n",
    "        # Initial Plan Duration\n",
    "        initial_plan_days = (row['plan_change_date'] - row['subscription_date']).days\n",
    "        initial_plan_months = initial_plan_days / 30\n",
    "        # Total Initial Plan Revenue\n",
    "        initial_plan_rev = initial_plan_months * price.get(row['subscription_plan'], 0)\n",
    "        \n",
    "        # New Plan Duration\n",
    "        new_plan_days = ((row['last_active_date'] - row['plan_change_date']).days) + 1 # Add 1 to capture last active day \n",
    "        new_plan_months = new_plan_days / 30\n",
    "        # Total New Plan Revenue\n",
    "        new_plan_rev = new_plan_months * price.get(row['new_subscription_plan'], 0)\n",
    "        \n",
    "        return initial_plan_rev + new_plan_rev\n",
    "    else:\n",
    "        active_days = ((row['last_active_date'] - row['subscription_date']).days) + 1 \n",
    "        active_months = active_days / 30\n",
    "        return active_months * price.get(row['subscription_plan'], 0)"
   ]
  },
  {
   "cell_type": "code",
   "execution_count": 12,
   "id": "91823598-a5a0-45b4-a15e-fe425e5dc2fc",
   "metadata": {},
   "outputs": [],
   "source": [
    "js_subscribers['revenue'] = js_subscribers.apply(calculate_revenue, axis=1, args=(js_prices,))\n",
    "lc_subscribers['revenue'] = lc_subscribers.apply(calculate_revenue, axis=1, args=(lc_prices,))"
   ]
  },
  {
   "cell_type": "code",
   "execution_count": 13,
   "id": "a67d399b-af46-47c0-ac79-54a8783ca84c",
   "metadata": {},
   "outputs": [
    {
     "name": "stdout",
     "output_type": "stream",
     "text": [
      "Total Revenue\n",
      "JotStar's: 51.80M\n",
      "LioCinema's: 20.46M\n"
     ]
    }
   ],
   "source": [
    "js_total_revenue = js_subscribers['revenue'].sum()\n",
    "lc_total_revenue = lc_subscribers['revenue'].sum()\n",
    "\n",
    "print('Total Revenue')\n",
    "print(f\"JotStar's: {js_total_revenue/1000000:.2f}M\")\n",
    "print(f\"LioCinema's: {lc_total_revenue/1000000:.2f}M\")"
   ]
  },
  {
   "cell_type": "markdown",
   "id": "4568090e-4fcf-4171-9ebc-973e60f088a4",
   "metadata": {},
   "source": [
    "## Revenue generated from Subsricber who upgraded from Free plan"
   ]
  },
  {
   "cell_type": "code",
   "execution_count": 14,
   "id": "6739c2e6-d811-4a5b-926c-7431b68bb1b8",
   "metadata": {},
   "outputs": [
    {
     "data": {
      "text/html": [
       "<div>\n",
       "<style scoped>\n",
       "    .dataframe tbody tr th:only-of-type {\n",
       "        vertical-align: middle;\n",
       "    }\n",
       "\n",
       "    .dataframe tbody tr th {\n",
       "        vertical-align: top;\n",
       "    }\n",
       "\n",
       "    .dataframe thead th {\n",
       "        text-align: right;\n",
       "    }\n",
       "</style>\n",
       "<table border=\"1\" class=\"dataframe\">\n",
       "  <thead>\n",
       "    <tr style=\"text-align: right;\">\n",
       "      <th></th>\n",
       "      <th>user_id</th>\n",
       "      <th>age_group</th>\n",
       "      <th>city_tier</th>\n",
       "      <th>subscription_date</th>\n",
       "      <th>subscription_plan</th>\n",
       "      <th>last_active_date</th>\n",
       "      <th>plan_change_date</th>\n",
       "      <th>new_subscription_plan</th>\n",
       "      <th>change_type</th>\n",
       "      <th>revenue</th>\n",
       "    </tr>\n",
       "  </thead>\n",
       "  <tbody>\n",
       "    <tr>\n",
       "      <th>76</th>\n",
       "      <td>UIDJS006315e24bf</td>\n",
       "      <td>45+</td>\n",
       "      <td>Tier 1</td>\n",
       "      <td>2024-01-04</td>\n",
       "      <td>Free</td>\n",
       "      <td>2024-12-31</td>\n",
       "      <td>2024-03-04</td>\n",
       "      <td>Premium</td>\n",
       "      <td>Upgrade</td>\n",
       "      <td>3625.900000</td>\n",
       "    </tr>\n",
       "    <tr>\n",
       "      <th>81</th>\n",
       "      <td>UIDJS006711c9331</td>\n",
       "      <td>25-34</td>\n",
       "      <td>Tier 1</td>\n",
       "      <td>2024-05-22</td>\n",
       "      <td>Free</td>\n",
       "      <td>2024-12-31</td>\n",
       "      <td>2024-06-22</td>\n",
       "      <td>VIP</td>\n",
       "      <td>Upgrade</td>\n",
       "      <td>1022.900000</td>\n",
       "    </tr>\n",
       "    <tr>\n",
       "      <th>89</th>\n",
       "      <td>UIDJS007b5054731</td>\n",
       "      <td>25-34</td>\n",
       "      <td>Tier 1</td>\n",
       "      <td>2024-03-19</td>\n",
       "      <td>Free</td>\n",
       "      <td>2024-12-31</td>\n",
       "      <td>2024-09-19</td>\n",
       "      <td>VIP</td>\n",
       "      <td>Upgrade</td>\n",
       "      <td>551.200000</td>\n",
       "    </tr>\n",
       "    <tr>\n",
       "      <th>106</th>\n",
       "      <td>UIDJS008fe1ea9ab</td>\n",
       "      <td>25-34</td>\n",
       "      <td>Tier 1</td>\n",
       "      <td>2024-02-23</td>\n",
       "      <td>Free</td>\n",
       "      <td>2024-12-31</td>\n",
       "      <td>2024-09-23</td>\n",
       "      <td>Premium</td>\n",
       "      <td>Upgrade</td>\n",
       "      <td>1196.666667</td>\n",
       "    </tr>\n",
       "    <tr>\n",
       "      <th>151</th>\n",
       "      <td>UIDJS00d8867463a</td>\n",
       "      <td>25-34</td>\n",
       "      <td>Tier 3</td>\n",
       "      <td>2024-08-25</td>\n",
       "      <td>Free</td>\n",
       "      <td>2024-12-31</td>\n",
       "      <td>2024-09-25</td>\n",
       "      <td>Premium</td>\n",
       "      <td>Upgrade</td>\n",
       "      <td>1172.733333</td>\n",
       "    </tr>\n",
       "  </tbody>\n",
       "</table>\n",
       "</div>"
      ],
      "text/plain": [
       "              user_id age_group city_tier subscription_date subscription_plan  \\\n",
       "76   UIDJS006315e24bf       45+    Tier 1        2024-01-04              Free   \n",
       "81   UIDJS006711c9331     25-34    Tier 1        2024-05-22              Free   \n",
       "89   UIDJS007b5054731     25-34    Tier 1        2024-03-19              Free   \n",
       "106  UIDJS008fe1ea9ab     25-34    Tier 1        2024-02-23              Free   \n",
       "151  UIDJS00d8867463a     25-34    Tier 3        2024-08-25              Free   \n",
       "\n",
       "    last_active_date plan_change_date new_subscription_plan change_type  \\\n",
       "76        2024-12-31       2024-03-04               Premium     Upgrade   \n",
       "81        2024-12-31       2024-06-22                   VIP     Upgrade   \n",
       "89        2024-12-31       2024-09-19                   VIP     Upgrade   \n",
       "106       2024-12-31       2024-09-23               Premium     Upgrade   \n",
       "151       2024-12-31       2024-09-25               Premium     Upgrade   \n",
       "\n",
       "         revenue  \n",
       "76   3625.900000  \n",
       "81   1022.900000  \n",
       "89    551.200000  \n",
       "106  1196.666667  \n",
       "151  1172.733333  "
      ]
     },
     "execution_count": 14,
     "metadata": {},
     "output_type": "execute_result"
    }
   ],
   "source": [
    "js_subscribers[(js_subscribers['subscription_plan']=='Free') & (js_subscribers['change_type']=='Upgrade')].head()"
   ]
  },
  {
   "cell_type": "markdown",
   "id": "ad59a096-1412-445f-93e7-b0d9c8d98bcd",
   "metadata": {},
   "source": [
    "Demo:\n",
    "\n",
    "js_monthly_prices = {'VIP': 159, 'Premium': 359}\n",
    "\n",
    "Let's consider user with index 76\n",
    "- subscription_plan: Free\n",
    "- new_subscription_plan: Premium\n",
    "- subscription_date: 2024-01-04 (04 Jan 2024)\n",
    "- plan_change_date: 2024-03-04 (04 Mar 2024)\n",
    "- last_active_date: 2024-12-31 (31 Dec 2024)\n",
    "\n",
    "old_plan_duration = (04 Mar 2024) - (04 Jan 2024) = 60 days (doesn't including plan_change_date) => 2 Months\n",
    "\n",
    "old_plan_rev = 2 * 0 => 0\n",
    "\n",
    "new_plan_duration = (31 Dec 2024) - (04 Mar 2024) + 1 = 303 days (doesn't including plan_change_date) => 10.1 Months\n",
    "\n",
    "new_plan_rev = 10.1 * 359 => 3625.9"
   ]
  }
 ],
 "metadata": {
  "kernelspec": {
   "display_name": "Python 3 (ipykernel)",
   "language": "python",
   "name": "python3"
  },
  "language_info": {
   "codemirror_mode": {
    "name": "ipython",
    "version": 3
   },
   "file_extension": ".py",
   "mimetype": "text/x-python",
   "name": "python",
   "nbconvert_exporter": "python",
   "pygments_lexer": "ipython3",
   "version": "3.8.10"
  }
 },
 "nbformat": 4,
 "nbformat_minor": 5
}
